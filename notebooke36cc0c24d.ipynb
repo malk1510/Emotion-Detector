{
 "cells": [
  {
   "cell_type": "code",
   "execution_count": 1,
   "metadata": {
    "_cell_guid": "b1076dfc-b9ad-4769-8c92-a6c4dae69d19",
    "_uuid": "8f2839f25d086af736a60e9eeb907d3b93b6e0e5",
    "execution": {
     "iopub.execute_input": "2021-01-07T06:37:09.431704Z",
     "iopub.status.busy": "2021-01-07T06:37:09.430908Z",
     "iopub.status.idle": "2021-01-07T06:37:09.440562Z",
     "shell.execute_reply": "2021-01-07T06:37:09.439732Z"
    },
    "papermill": {
     "duration": 0.038582,
     "end_time": "2021-01-07T06:37:09.440740",
     "exception": false,
     "start_time": "2021-01-07T06:37:09.402158",
     "status": "completed"
    },
    "tags": []
   },
   "outputs": [
    {
     "name": "stdout",
     "output_type": "stream",
     "text": [
      "/kaggle/input/challenges-in-representation-learning-facial-expression-recognition-challenge/icml_face_data.csv\n",
      "/kaggle/input/challenges-in-representation-learning-facial-expression-recognition-challenge/fer2013.tar.gz\n",
      "/kaggle/input/challenges-in-representation-learning-facial-expression-recognition-challenge/example_submission.csv\n",
      "/kaggle/input/challenges-in-representation-learning-facial-expression-recognition-challenge/train.csv\n",
      "/kaggle/input/challenges-in-representation-learning-facial-expression-recognition-challenge/test.csv\n"
     ]
    }
   ],
   "source": [
    "# This Python 3 environment comes with many helpful analytics libraries installed\n",
    "# It is defined by the kaggle/python Docker image: https://github.com/kaggle/docker-python\n",
    "# For example, here's several helpful packages to load\n",
    "\n",
    "import numpy as np # linear algebra\n",
    "import pandas as pd # data processing, CSV file I/O (e.g. pd.read_csv)\n",
    "\n",
    "# Input data files are available in the read-only \"../input/\" directory\n",
    "# For example, running this (by clicking run or pressing Shift+Enter) will list all files under the input directory\n",
    "\n",
    "import os\n",
    "for dirname, _, filenames in os.walk('/kaggle/input'):\n",
    "    for filename in filenames:\n",
    "        print(os.path.join(dirname, filename))\n",
    "\n",
    "# You can write up to 20GB to the current directory (/kaggle/working/) that gets preserved as output when you create a version using \"Save & Run All\" \n",
    "# You can also write temporary files to /kaggle/temp/, but they won't be saved outside of the current session"
   ]
  },
  {
   "cell_type": "code",
   "execution_count": 2,
   "metadata": {
    "_cell_guid": "79c7e3d0-c299-4dcb-8224-4455121ee9b0",
    "_uuid": "d629ff2d2480ee46fbb7e2d37f6b5fab8052498a",
    "execution": {
     "iopub.execute_input": "2021-01-07T06:37:09.472972Z",
     "iopub.status.busy": "2021-01-07T06:37:09.472110Z",
     "iopub.status.idle": "2021-01-07T06:37:15.887864Z",
     "shell.execute_reply": "2021-01-07T06:37:15.888959Z"
    },
    "papermill": {
     "duration": 6.435317,
     "end_time": "2021-01-07T06:37:15.889126",
     "exception": false,
     "start_time": "2021-01-07T06:37:09.453809",
     "status": "completed"
    },
    "tags": []
   },
   "outputs": [],
   "source": [
    "import tensorflow as tf\n",
    "from tensorflow.keras.models import Sequential\n",
    "from tensorflow.keras import layers\n",
    "from tensorflow.keras.preprocessing import image\n",
    "from tensorflow.keras.preprocessing.image import ImageDataGenerator"
   ]
  },
  {
   "cell_type": "code",
   "execution_count": 3,
   "metadata": {
    "execution": {
     "iopub.execute_input": "2021-01-07T06:37:15.922041Z",
     "iopub.status.busy": "2021-01-07T06:37:15.921306Z",
     "iopub.status.idle": "2021-01-07T06:37:20.794730Z",
     "shell.execute_reply": "2021-01-07T06:37:20.795511Z"
    },
    "papermill": {
     "duration": 4.894436,
     "end_time": "2021-01-07T06:37:20.795700",
     "exception": false,
     "start_time": "2021-01-07T06:37:15.901264",
     "status": "completed"
    },
    "tags": []
   },
   "outputs": [],
   "source": [
    "df = pd.read_csv('../input/challenges-in-representation-learning-facial-expression-recognition-challenge/train.csv')\n",
    "t = []"
   ]
  },
  {
   "cell_type": "code",
   "execution_count": 4,
   "metadata": {
    "execution": {
     "iopub.execute_input": "2021-01-07T06:37:20.828407Z",
     "iopub.status.busy": "2021-01-07T06:37:20.827741Z",
     "iopub.status.idle": "2021-01-07T06:38:25.063951Z",
     "shell.execute_reply": "2021-01-07T06:38:25.064512Z"
    },
    "papermill": {
     "duration": 64.257432,
     "end_time": "2021-01-07T06:38:25.064674",
     "exception": false,
     "start_time": "2021-01-07T06:37:20.807242",
     "status": "completed"
    },
    "tags": []
   },
   "outputs": [
    {
     "data": {
      "text/html": [
       "<div>\n",
       "<style scoped>\n",
       "    .dataframe tbody tr th:only-of-type {\n",
       "        vertical-align: middle;\n",
       "    }\n",
       "\n",
       "    .dataframe tbody tr th {\n",
       "        vertical-align: top;\n",
       "    }\n",
       "\n",
       "    .dataframe thead th {\n",
       "        text-align: right;\n",
       "    }\n",
       "</style>\n",
       "<table border=\"1\" class=\"dataframe\">\n",
       "  <thead>\n",
       "    <tr style=\"text-align: right;\">\n",
       "      <th></th>\n",
       "      <th>emotion</th>\n",
       "      <th>pixels</th>\n",
       "    </tr>\n",
       "  </thead>\n",
       "  <tbody>\n",
       "    <tr>\n",
       "      <th>0</th>\n",
       "      <td>0</td>\n",
       "      <td>70 80 82 72 58 58 60 63 54 58 60 48 89 115 121...</td>\n",
       "    </tr>\n",
       "    <tr>\n",
       "      <th>1</th>\n",
       "      <td>0</td>\n",
       "      <td>151 150 147 155 148 133 111 140 170 174 182 15...</td>\n",
       "    </tr>\n",
       "    <tr>\n",
       "      <th>2</th>\n",
       "      <td>2</td>\n",
       "      <td>231 212 156 164 174 138 161 173 182 200 106 38...</td>\n",
       "    </tr>\n",
       "    <tr>\n",
       "      <th>3</th>\n",
       "      <td>4</td>\n",
       "      <td>24 32 36 30 32 23 19 20 30 41 21 22 32 34 21 1...</td>\n",
       "    </tr>\n",
       "    <tr>\n",
       "      <th>4</th>\n",
       "      <td>6</td>\n",
       "      <td>4 0 0 0 0 0 0 0 0 0 0 0 3 15 23 28 48 50 58 84...</td>\n",
       "    </tr>\n",
       "    <tr>\n",
       "      <th>...</th>\n",
       "      <td>...</td>\n",
       "      <td>...</td>\n",
       "    </tr>\n",
       "    <tr>\n",
       "      <th>28704</th>\n",
       "      <td>2</td>\n",
       "      <td>84 85 85 85 85 85 85 85 86 86 86 87 86 86 91 9...</td>\n",
       "    </tr>\n",
       "    <tr>\n",
       "      <th>28705</th>\n",
       "      <td>0</td>\n",
       "      <td>114 112 113 113 111 111 112 113 115 113 114 11...</td>\n",
       "    </tr>\n",
       "    <tr>\n",
       "      <th>28706</th>\n",
       "      <td>4</td>\n",
       "      <td>74 81 87 89 95 100 98 93 105 120 127 133 146 1...</td>\n",
       "    </tr>\n",
       "    <tr>\n",
       "      <th>28707</th>\n",
       "      <td>0</td>\n",
       "      <td>222 227 203 90 86 90 84 77 94 87 99 119 134 14...</td>\n",
       "    </tr>\n",
       "    <tr>\n",
       "      <th>28708</th>\n",
       "      <td>4</td>\n",
       "      <td>195 199 205 206 205 203 206 209 208 210 212 21...</td>\n",
       "    </tr>\n",
       "  </tbody>\n",
       "</table>\n",
       "<p>28709 rows × 2 columns</p>\n",
       "</div>"
      ],
      "text/plain": [
       "       emotion                                             pixels\n",
       "0            0  70 80 82 72 58 58 60 63 54 58 60 48 89 115 121...\n",
       "1            0  151 150 147 155 148 133 111 140 170 174 182 15...\n",
       "2            2  231 212 156 164 174 138 161 173 182 200 106 38...\n",
       "3            4  24 32 36 30 32 23 19 20 30 41 21 22 32 34 21 1...\n",
       "4            6  4 0 0 0 0 0 0 0 0 0 0 0 3 15 23 28 48 50 58 84...\n",
       "...        ...                                                ...\n",
       "28704        2  84 85 85 85 85 85 85 85 86 86 86 87 86 86 91 9...\n",
       "28705        0  114 112 113 113 111 111 112 113 115 113 114 11...\n",
       "28706        4  74 81 87 89 95 100 98 93 105 120 127 133 146 1...\n",
       "28707        0  222 227 203 90 86 90 84 77 94 87 99 119 134 14...\n",
       "28708        4  195 199 205 206 205 203 206 209 208 210 212 21...\n",
       "\n",
       "[28709 rows x 2 columns]"
      ]
     },
     "execution_count": 4,
     "metadata": {},
     "output_type": "execute_result"
    }
   ],
   "source": [
    "for i in range(len(df)):\n",
    "    t.append(np.reshape(np.array(df['pixels'][i].split(' ')).astype(float),(48,48,1)))\n",
    "df"
   ]
  },
  {
   "cell_type": "code",
   "execution_count": 5,
   "metadata": {
    "execution": {
     "iopub.execute_input": "2021-01-07T06:38:25.092619Z",
     "iopub.status.busy": "2021-01-07T06:38:25.091922Z",
     "iopub.status.idle": "2021-01-07T06:38:25.431183Z",
     "shell.execute_reply": "2021-01-07T06:38:25.430470Z"
    },
    "papermill": {
     "duration": 0.354398,
     "end_time": "2021-01-07T06:38:25.431301",
     "exception": false,
     "start_time": "2021-01-07T06:38:25.076903",
     "status": "completed"
    },
    "tags": []
   },
   "outputs": [
    {
     "data": {
      "text/plain": [
       "(28709, 7)"
      ]
     },
     "execution_count": 5,
     "metadata": {},
     "output_type": "execute_result"
    }
   ],
   "source": [
    "t = np.array(t)\n",
    "emotion_one_hot = []\n",
    "for i in df['emotion']:\n",
    "    emotion_one_hot.append(np.zeros((7)))\n",
    "    emotion_one_hot[-1][i] = 1.0\n",
    "emotion_one_hot = np.array(emotion_one_hot)\n",
    "emotion_one_hot.shape"
   ]
  },
  {
   "cell_type": "code",
   "execution_count": 6,
   "metadata": {
    "execution": {
     "iopub.execute_input": "2021-01-07T06:38:25.461355Z",
     "iopub.status.busy": "2021-01-07T06:38:25.460639Z",
     "iopub.status.idle": "2021-01-07T06:38:25.525220Z",
     "shell.execute_reply": "2021-01-07T06:38:25.524693Z"
    },
    "papermill": {
     "duration": 0.081348,
     "end_time": "2021-01-07T06:38:25.525338",
     "exception": false,
     "start_time": "2021-01-07T06:38:25.443990",
     "status": "completed"
    },
    "tags": []
   },
   "outputs": [
    {
     "data": {
      "text/plain": [
       "(28709, 48, 48, 1)"
      ]
     },
     "execution_count": 6,
     "metadata": {},
     "output_type": "execute_result"
    }
   ],
   "source": [
    "t /= 255.0\n",
    "t.shape"
   ]
  },
  {
   "cell_type": "code",
   "execution_count": 7,
   "metadata": {
    "execution": {
     "iopub.execute_input": "2021-01-07T06:38:25.662597Z",
     "iopub.status.busy": "2021-01-07T06:38:25.568048Z",
     "iopub.status.idle": "2021-01-07T06:38:29.602736Z",
     "shell.execute_reply": "2021-01-07T06:38:29.602012Z"
    },
    "papermill": {
     "duration": 4.062521,
     "end_time": "2021-01-07T06:38:29.602852",
     "exception": false,
     "start_time": "2021-01-07T06:38:25.540331",
     "status": "completed"
    },
    "tags": []
   },
   "outputs": [],
   "source": [
    "tpu = tf.distribute.cluster_resolver.TPUClusterResolver()\n",
    "tf.config.experimental_connect_to_cluster(tpu)\n",
    "tf.tpu.experimental.initialize_tpu_system(tpu)\n",
    "tpu_strategy = tf.distribute.experimental.TPUStrategy(tpu)"
   ]
  },
  {
   "cell_type": "code",
   "execution_count": 8,
   "metadata": {
    "execution": {
     "iopub.execute_input": "2021-01-07T06:38:29.649592Z",
     "iopub.status.busy": "2021-01-07T06:38:29.644252Z",
     "iopub.status.idle": "2021-01-07T06:38:31.910707Z",
     "shell.execute_reply": "2021-01-07T06:38:31.909926Z"
    },
    "papermill": {
     "duration": 2.294558,
     "end_time": "2021-01-07T06:38:31.910925",
     "exception": false,
     "start_time": "2021-01-07T06:38:29.616367",
     "status": "completed"
    },
    "tags": []
   },
   "outputs": [],
   "source": [
    "with tpu_strategy.scope():\n",
    "    model = Sequential()\n",
    "    model.add(layers.Conv2D(filters=32, kernel_size=(3,3), input_shape=(48,48,1), activation='relu'))\n",
    "    model.add(layers.ZeroPadding2D((1,1)))\n",
    "    model.add(layers.Conv2D(filters=32, kernel_size=(3,3), activation='relu'))\n",
    "    model.add(layers.ZeroPadding2D((1,1)))\n",
    "    model.add(layers.Conv2D(filters=32, kernel_size=(3,3), activation='relu'))\n",
    "    model.add(layers.ZeroPadding2D((1,1)))\n",
    "    model.add(layers.BatchNormalization())\n",
    "    model.add(layers.MaxPooling2D(pool_size=(2,2)))\n",
    "\n",
    "    model.add(layers.Conv2D(filters=64, kernel_size=(3,3), activation='relu'))\n",
    "    model.add(layers.ZeroPadding2D((1,1)))\n",
    "    model.add(layers.Conv2D(filters=64, kernel_size=(3,3), activation='relu'))\n",
    "    model.add(layers.ZeroPadding2D((1,1)))\n",
    "    model.add(layers.Conv2D(filters=64, kernel_size=(3,3), activation='relu'))\n",
    "    model.add(layers.ZeroPadding2D((1,1)))\n",
    "    model.add(layers.BatchNormalization())\n",
    "    model.add(layers.MaxPooling2D(pool_size=(2,2)))\n",
    "\n",
    "    model.add(layers.Conv2D(filters=128, kernel_size=(3,3), activation='relu'))\n",
    "    model.add(layers.ZeroPadding2D((1,1)))\n",
    "    model.add(layers.Conv2D(filters=128, kernel_size=(3,3), activation='relu'))\n",
    "    model.add(layers.ZeroPadding2D((1,1)))\n",
    "    model.add(layers.Conv2D(filters=128, kernel_size=(3,3), activation='relu'))\n",
    "    model.add(layers.ZeroPadding2D((1,1)))\n",
    "    model.add(layers.BatchNormalization())\n",
    "    model.add(layers.MaxPooling2D(pool_size=(2,2)))\n",
    "\n",
    "    model.add(layers.Flatten())\n",
    "    model.add(layers.Dense(128, activation='relu'))\n",
    "    model.add(layers.Dense(7, activation='softmax'))\n",
    "    model.compile(metrics=['accuracy'],optimizer='adam',loss='categorical_crossentropy')"
   ]
  },
  {
   "cell_type": "code",
   "execution_count": 9,
   "metadata": {
    "execution": {
     "iopub.execute_input": "2021-01-07T06:38:31.949402Z",
     "iopub.status.busy": "2021-01-07T06:38:31.948294Z",
     "iopub.status.idle": "2021-01-07T06:38:31.965350Z",
     "shell.execute_reply": "2021-01-07T06:38:31.964747Z"
    },
    "papermill": {
     "duration": 0.039468,
     "end_time": "2021-01-07T06:38:31.965467",
     "exception": false,
     "start_time": "2021-01-07T06:38:31.925999",
     "status": "completed"
    },
    "tags": []
   },
   "outputs": [
    {
     "name": "stdout",
     "output_type": "stream",
     "text": [
      "Model: \"sequential\"\n",
      "_________________________________________________________________\n",
      "Layer (type)                 Output Shape              Param #   \n",
      "=================================================================\n",
      "conv2d (Conv2D)              (None, 46, 46, 32)        320       \n",
      "_________________________________________________________________\n",
      "zero_padding2d (ZeroPadding2 (None, 48, 48, 32)        0         \n",
      "_________________________________________________________________\n",
      "conv2d_1 (Conv2D)            (None, 46, 46, 32)        9248      \n",
      "_________________________________________________________________\n",
      "zero_padding2d_1 (ZeroPaddin (None, 48, 48, 32)        0         \n",
      "_________________________________________________________________\n",
      "conv2d_2 (Conv2D)            (None, 46, 46, 32)        9248      \n",
      "_________________________________________________________________\n",
      "zero_padding2d_2 (ZeroPaddin (None, 48, 48, 32)        0         \n",
      "_________________________________________________________________\n",
      "batch_normalization (BatchNo (None, 48, 48, 32)        128       \n",
      "_________________________________________________________________\n",
      "max_pooling2d (MaxPooling2D) (None, 24, 24, 32)        0         \n",
      "_________________________________________________________________\n",
      "conv2d_3 (Conv2D)            (None, 22, 22, 64)        18496     \n",
      "_________________________________________________________________\n",
      "zero_padding2d_3 (ZeroPaddin (None, 24, 24, 64)        0         \n",
      "_________________________________________________________________\n",
      "conv2d_4 (Conv2D)            (None, 22, 22, 64)        36928     \n",
      "_________________________________________________________________\n",
      "zero_padding2d_4 (ZeroPaddin (None, 24, 24, 64)        0         \n",
      "_________________________________________________________________\n",
      "conv2d_5 (Conv2D)            (None, 22, 22, 64)        36928     \n",
      "_________________________________________________________________\n",
      "zero_padding2d_5 (ZeroPaddin (None, 24, 24, 64)        0         \n",
      "_________________________________________________________________\n",
      "batch_normalization_1 (Batch (None, 24, 24, 64)        256       \n",
      "_________________________________________________________________\n",
      "max_pooling2d_1 (MaxPooling2 (None, 12, 12, 64)        0         \n",
      "_________________________________________________________________\n",
      "conv2d_6 (Conv2D)            (None, 10, 10, 128)       73856     \n",
      "_________________________________________________________________\n",
      "zero_padding2d_6 (ZeroPaddin (None, 12, 12, 128)       0         \n",
      "_________________________________________________________________\n",
      "conv2d_7 (Conv2D)            (None, 10, 10, 128)       147584    \n",
      "_________________________________________________________________\n",
      "zero_padding2d_7 (ZeroPaddin (None, 12, 12, 128)       0         \n",
      "_________________________________________________________________\n",
      "conv2d_8 (Conv2D)            (None, 10, 10, 128)       147584    \n",
      "_________________________________________________________________\n",
      "zero_padding2d_8 (ZeroPaddin (None, 12, 12, 128)       0         \n",
      "_________________________________________________________________\n",
      "batch_normalization_2 (Batch (None, 12, 12, 128)       512       \n",
      "_________________________________________________________________\n",
      "max_pooling2d_2 (MaxPooling2 (None, 6, 6, 128)         0         \n",
      "_________________________________________________________________\n",
      "flatten (Flatten)            (None, 4608)              0         \n",
      "_________________________________________________________________\n",
      "dense (Dense)                (None, 128)               589952    \n",
      "_________________________________________________________________\n",
      "dense_1 (Dense)              (None, 7)                 903       \n",
      "=================================================================\n",
      "Total params: 1,071,943\n",
      "Trainable params: 1,071,495\n",
      "Non-trainable params: 448\n",
      "_________________________________________________________________\n"
     ]
    }
   ],
   "source": [
    "model.summary()"
   ]
  },
  {
   "cell_type": "code",
   "execution_count": 10,
   "metadata": {
    "execution": {
     "iopub.execute_input": "2021-01-07T06:38:32.005695Z",
     "iopub.status.busy": "2021-01-07T06:38:32.004462Z",
     "iopub.status.idle": "2021-01-07T06:40:01.096677Z",
     "shell.execute_reply": "2021-01-07T06:40:01.095940Z"
    },
    "papermill": {
     "duration": 89.116803,
     "end_time": "2021-01-07T06:40:01.096806",
     "exception": false,
     "start_time": "2021-01-07T06:38:31.980003",
     "status": "completed"
    },
    "tags": []
   },
   "outputs": [
    {
     "name": "stdout",
     "output_type": "stream",
     "text": [
      "Epoch 1/20\n",
      "225/225 [==============================] - 7s 30ms/step - loss: 1.8160 - accuracy: 0.2978\n",
      "Epoch 2/20\n",
      "225/225 [==============================] - 4s 17ms/step - loss: 1.4689 - accuracy: 0.4285\n",
      "Epoch 3/20\n",
      "225/225 [==============================] - 4s 16ms/step - loss: 1.3053 - accuracy: 0.5002\n",
      "Epoch 4/20\n",
      "225/225 [==============================] - 4s 18ms/step - loss: 1.1911 - accuracy: 0.5472\n",
      "Epoch 5/20\n",
      "225/225 [==============================] - 4s 16ms/step - loss: 1.1023 - accuracy: 0.5846\n",
      "Epoch 6/20\n",
      "225/225 [==============================] - 4s 17ms/step - loss: 1.0254 - accuracy: 0.6133\n",
      "Epoch 7/20\n",
      "225/225 [==============================] - 4s 17ms/step - loss: 0.9504 - accuracy: 0.6410\n",
      "Epoch 8/20\n",
      "225/225 [==============================] - 4s 16ms/step - loss: 0.8757 - accuracy: 0.6728\n",
      "Epoch 9/20\n",
      "225/225 [==============================] - 4s 16ms/step - loss: 0.7911 - accuracy: 0.7066\n",
      "Epoch 10/20\n",
      "225/225 [==============================] - 4s 16ms/step - loss: 0.6834 - accuracy: 0.7466\n",
      "Epoch 11/20\n",
      "225/225 [==============================] - 3s 16ms/step - loss: 0.5928 - accuracy: 0.7799\n",
      "Epoch 12/20\n",
      "225/225 [==============================] - 3s 15ms/step - loss: 0.4909 - accuracy: 0.8212\n",
      "Epoch 13/20\n",
      "225/225 [==============================] - 3s 15ms/step - loss: 0.3811 - accuracy: 0.8633\n",
      "Epoch 14/20\n",
      "225/225 [==============================] - 4s 18ms/step - loss: 0.3273 - accuracy: 0.8834\n",
      "Epoch 15/20\n",
      "225/225 [==============================] - 3s 15ms/step - loss: 0.2430 - accuracy: 0.9163\n",
      "Epoch 16/20\n",
      "225/225 [==============================] - 4s 16ms/step - loss: 0.1984 - accuracy: 0.9308\n",
      "Epoch 17/20\n",
      "225/225 [==============================] - 4s 16ms/step - loss: 0.1760 - accuracy: 0.9403\n",
      "Epoch 18/20\n",
      "225/225 [==============================] - 3s 15ms/step - loss: 0.1764 - accuracy: 0.9399\n",
      "Epoch 19/20\n",
      "225/225 [==============================] - 3s 15ms/step - loss: 0.1331 - accuracy: 0.9564\n",
      "Epoch 20/20\n",
      "225/225 [==============================] - 4s 16ms/step - loss: 0.1329 - accuracy: 0.9568\n"
     ]
    },
    {
     "data": {
      "text/plain": [
       "<tensorflow.python.keras.callbacks.History at 0x7f92e47c8b10>"
      ]
     },
     "execution_count": 10,
     "metadata": {},
     "output_type": "execute_result"
    }
   ],
   "source": [
    "model.fit(t,emotion_one_hot,batch_size = 16 * tpu_strategy.num_replicas_in_sync, epochs=20)"
   ]
  },
  {
   "cell_type": "code",
   "execution_count": 11,
   "metadata": {
    "execution": {
     "iopub.execute_input": "2021-01-07T06:40:01.950829Z",
     "iopub.status.busy": "2021-01-07T06:40:01.945649Z",
     "iopub.status.idle": "2021-01-07T06:40:02.289353Z",
     "shell.execute_reply": "2021-01-07T06:40:02.288755Z"
    },
    "papermill": {
     "duration": 0.777317,
     "end_time": "2021-01-07T06:40:02.289537",
     "exception": false,
     "start_time": "2021-01-07T06:40:01.512220",
     "status": "completed"
    },
    "tags": []
   },
   "outputs": [],
   "source": [
    "model.save('model.h5')"
   ]
  },
  {
   "cell_type": "code",
   "execution_count": 12,
   "metadata": {
    "execution": {
     "iopub.execute_input": "2021-01-07T06:40:03.200260Z",
     "iopub.status.busy": "2021-01-07T06:40:03.199275Z",
     "iopub.status.idle": "2021-01-07T06:40:03.203012Z",
     "shell.execute_reply": "2021-01-07T06:40:03.202463Z"
    },
    "papermill": {
     "duration": 0.43327,
     "end_time": "2021-01-07T06:40:03.203127",
     "exception": false,
     "start_time": "2021-01-07T06:40:02.769857",
     "status": "completed"
    },
    "tags": []
   },
   "outputs": [],
   "source": [
    "os.chdir(r'/kaggle/working')"
   ]
  },
  {
   "cell_type": "code",
   "execution_count": 13,
   "metadata": {
    "execution": {
     "iopub.execute_input": "2021-01-07T06:40:04.059976Z",
     "iopub.status.busy": "2021-01-07T06:40:04.059290Z",
     "iopub.status.idle": "2021-01-07T06:40:05.538788Z",
     "shell.execute_reply": "2021-01-07T06:40:05.538014Z"
    },
    "papermill": {
     "duration": 1.906805,
     "end_time": "2021-01-07T06:40:05.538922",
     "exception": false,
     "start_time": "2021-01-07T06:40:03.632117",
     "status": "completed"
    },
    "tags": []
   },
   "outputs": [
    {
     "name": "stdout",
     "output_type": "stream",
     "text": [
      "  adding: __notebook__.ipynb (deflated 96%)\r\n",
      "  adding: model.h5 (deflated 7%)\r\n"
     ]
    }
   ],
   "source": [
    "!zip -r file.zip './'"
   ]
  },
  {
   "cell_type": "code",
   "execution_count": 14,
   "metadata": {
    "execution": {
     "iopub.execute_input": "2021-01-07T06:40:06.383012Z",
     "iopub.status.busy": "2021-01-07T06:40:06.382034Z",
     "iopub.status.idle": "2021-01-07T06:40:06.385192Z",
     "shell.execute_reply": "2021-01-07T06:40:06.385702Z"
    },
    "papermill": {
     "duration": 0.420081,
     "end_time": "2021-01-07T06:40:06.385838",
     "exception": false,
     "start_time": "2021-01-07T06:40:05.965757",
     "status": "completed"
    },
    "tags": []
   },
   "outputs": [
    {
     "data": {
      "text/html": [
       "<a href='./file.zip' target='_blank'>./file.zip</a><br>"
      ],
      "text/plain": [
       "/kaggle/working/file.zip"
      ]
     },
     "execution_count": 14,
     "metadata": {},
     "output_type": "execute_result"
    }
   ],
   "source": [
    "from IPython.display import FileLink\n",
    "FileLink('./file.zip')"
   ]
  },
  {
   "cell_type": "code",
   "execution_count": null,
   "metadata": {
    "papermill": {
     "duration": 0.413956,
     "end_time": "2021-01-07T06:40:07.211680",
     "exception": false,
     "start_time": "2021-01-07T06:40:06.797724",
     "status": "completed"
    },
    "tags": []
   },
   "outputs": [],
   "source": []
  }
 ],
 "metadata": {
  "kernelspec": {
   "display_name": "Python 3",
   "language": "python",
   "name": "python3"
  },
  "language_info": {
   "codemirror_mode": {
    "name": "ipython",
    "version": 3
   },
   "file_extension": ".py",
   "mimetype": "text/x-python",
   "name": "python",
   "nbconvert_exporter": "python",
   "pygments_lexer": "ipython3",
   "version": "3.7.6"
  },
  "papermill": {
   "duration": 183.321834,
   "end_time": "2021-01-07T06:40:07.801076",
   "environment_variables": {},
   "exception": null,
   "input_path": "__notebook__.ipynb",
   "output_path": "__notebook__.ipynb",
   "parameters": {},
   "start_time": "2021-01-07T06:37:04.479242",
   "version": "2.1.0"
  }
 },
 "nbformat": 4,
 "nbformat_minor": 4
}
